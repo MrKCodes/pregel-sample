{
  "cells": [
    {
      "cell_type": "markdown",
      "metadata": {
        "id": "view-in-github",
        "colab_type": "text"
      },
      "source": [
        "<a href=\"https://colab.research.google.com/github/MrKCodes/pregel-sample/blob/main/notebooks/Pregel.ipynb\" target=\"_parent\"><img src=\"https://colab.research.google.com/assets/colab-badge.svg\" alt=\"Open In Colab\"/></a>"
      ]
    },
    {
      "cell_type": "markdown",
      "metadata": {
        "id": "yUfwGMXs3JWx"
      },
      "source": [
        "![arangodb](https://github.com/arangodb/interactive_tutorials/blob/master/notebooks/img/ArangoDB_logo.png?raw=1)"
      ]
    },
    {
      "cell_type": "markdown",
      "metadata": {
        "id": "gafVPB_N3JW3"
      },
      "source": [
        "# Iterative, Distributed Graph Analytics with Pregel"
      ]
    },
    {
      "cell_type": "markdown",
      "metadata": {
        "id": "lu-8LTPO3JW4"
      },
      "source": [
        "<a href=\"https://colab.research.google.com/github/arangodb/interactive_tutorials/blob/master/notebooks/Pregel.ipynb\" target=\"_parent\"><img src=\"https://colab.research.google.com/assets/colab-badge.svg\" alt=\"Open In Colab\"/></a>"
      ]
    },
    {
      "cell_type": "markdown",
      "metadata": {
        "id": "frXF0GXe3JW4"
      },
      "source": [
        "\n",
        "*“Many practical computing problems concern large graphs.”*\n",
        "\n",
        "Distributed graph processing enables you to do online analytical processing directly on graphs stored in ArangoDB. This is intended to help you gain analytical insights on your data, without having to use external processing systems.\n",
        "[The processing system](https://www.arangodb.com/docs/stable/graphs-pregel.html) inside ArangoDB is based on Google's Pregel framework: [Pregel: A System for Large-Scale Graph Processing](http://www.dcs.bbk.ac.uk/~dell/teaching/cc/paper/sigmod10/p135-malewicz.pdf). This concept enables us to perform distributed graph processing, without the need for distributed global locking.\n",
        "\n",
        "Currently, ArangoDB support the [following algorithms out of box](https://www.arangodb.com/docs/stable/graphs-pregel.html#available-algorithms) (For custom algorithms see note about Custom Pregel below):\n",
        "*  Page Rank\n",
        "*  Seeded PageRank\n",
        "* Single-Source Shortest Path\n",
        "* Connected Components:\n",
        "   * WeaklyConnected\n",
        "   * StronglyConnected\n",
        "* Hyperlink-Induced Topic Search (HITS)\n",
        "* Vertex Centrality\n",
        "* Effective Closeness\n",
        "* LineRank\n",
        "* Label Propagation\n",
        "* Speaker-Listener Label Propagation\n",
        "\n",
        "\n",
        "Pregel is not useful for typical online queries, where you just work on a small set of vertices. These kind of tasks are better suited for AQL traversals.\n",
        "\n",
        "Furthermore, for best performance Pregel should be used in combination with [SMART Graphs (Enterprise feature)](https://www.arangodb.com/enterprise-server/smartgraphs/).\n"
      ]
    },
    {
      "cell_type": "markdown",
      "metadata": {
        "id": "2qfdO22s3JW4"
      },
      "source": [
        "# Setup"
      ]
    },
    {
      "cell_type": "markdown",
      "metadata": {
        "id": "tYODkDx33JW5"
      },
      "source": [
        "Before getting started with ArangoDB we need to prepare our environment and create a temporary database on ArangoDB's managed Service Oasis."
      ]
    },
    {
      "cell_type": "code",
      "execution_count": 1,
      "metadata": {
        "id": "vsOFaPNJ3JW5"
      },
      "outputs": [],
      "source": [
        "%%capture\n",
        "!git clone https://github.com/joerg84/ArangoDBUniversity.git\n",
        "!rsync -av ArangoDBUniversity/ ./ --exclude=.git\n",
        "!!pip3 install pyarango\n",
        "!pip3 install \"python-arango>=5.0\""
      ]
    },
    {
      "cell_type": "code",
      "execution_count": 2,
      "metadata": {
        "id": "fKfqjUrL3JW6"
      },
      "outputs": [],
      "source": [
        "import json\n",
        "import requests\n",
        "import sys\n",
        "import oasis\n",
        "import time\n",
        "from IPython.display import JSON\n",
        "\n",
        "from arango import ArangoClient"
      ]
    },
    {
      "cell_type": "markdown",
      "metadata": {
        "id": "jYk7qd3T3JW6"
      },
      "source": [
        "Create the temporary database:"
      ]
    },
    {
      "cell_type": "code",
      "execution_count": 3,
      "metadata": {
        "colab": {
          "base_uri": "https://localhost:8080/"
        },
        "id": "c_6RZVqu3JW6",
        "outputId": "9f926025-e467-4833-b192-65bc4040c74b"
      },
      "outputs": [
        {
          "output_type": "stream",
          "name": "stdout",
          "text": [
            "Requesting new temp credentials.\n",
            "Temp database ready to use.\n"
          ]
        }
      ],
      "source": [
        "# Retrieve tmp credentials from ArangoDB Tutorial Service\n",
        "login = oasis.getTempCredentials(tutorialName=\"Pregel\", credentialProvider='https://tutorials.arangodb.cloud:8529/_db/_system/tutorialDB/tutorialDB')\n",
        "\n",
        "# Connect to the temp database\n",
        "db = oasis.connect_python_arango(login)"
      ]
    },
    {
      "cell_type": "code",
      "execution_count": 4,
      "metadata": {
        "colab": {
          "base_uri": "https://localhost:8080/"
        },
        "id": "uGptRNz93JW7",
        "outputId": "0981c4d5-a41e-40f0-fbee-a55ebc85bfca"
      },
      "outputs": [
        {
          "output_type": "stream",
          "name": "stdout",
          "text": [
            "https://tutorials.arangodb.cloud:8529\n",
            "Username: TUTktmqji1u978xic42lzelg\n",
            "Password: TUTxikhlb9p79v5b5f8isk19\n",
            "Database: TUTo33q0tsc0situdgx7i3kim\n"
          ]
        }
      ],
      "source": [
        "print(\"https://{}:{}\".format(login[\"hostname\"], login[\"port\"]))\n",
        "print(\"Username: \" + login[\"username\"])\n",
        "print(\"Password: \" + login[\"password\"])\n",
        "print(\"Database: \" + login[\"dbName\"])"
      ]
    },
    {
      "cell_type": "markdown",
      "metadata": {
        "id": "CHh-4ED-3JW7"
      },
      "source": [
        "Feel free to use to above URL to checkout the UI!"
      ]
    },
    {
      "cell_type": "markdown",
      "metadata": {
        "id": "j2YJ88SJ3JW7"
      },
      "source": [
        "##  Import Data"
      ]
    },
    {
      "cell_type": "markdown",
      "metadata": {
        "id": "5q-sYHDqvMAu"
      },
      "source": [
        "Let us first start by creating an empty graph:"
      ]
    },
    {
      "cell_type": "code",
      "execution_count": 5,
      "metadata": {
        "id": "FCTkPLNF9-vS",
        "outputId": "487dcdd5-457a-499c-ffe5-39ac7e3c0486",
        "colab": {
          "base_uri": "https://localhost:8080/"
        }
      },
      "outputs": [
        {
          "output_type": "stream",
          "name": "stdout",
          "text": [
            "school\n",
            "TUTo33q0tsc0situdgx7i3kim\n",
            "[]\n",
            "[]\n"
          ]
        }
      ],
      "source": [
        "if db.has_graph('school'):\n",
        "        school = db.graph('school')\n",
        "else:\n",
        "        school = db.create_graph('school')\n",
        "\n",
        "# Retrieve various graph properties.\n",
        "print(school.name)\n",
        "print(school.db_name)\n",
        "print(school.vertex_collections())\n",
        "print(school.edge_definitions())"
      ]
    },
    {
      "cell_type": "markdown",
      "metadata": {
        "id": "W5R-S4V7vR8z"
      },
      "source": [
        "Next, we create a Pregel job on a (empty) graph:"
      ]
    },
    {
      "cell_type": "code",
      "execution_count": 6,
      "metadata": {
        "id": "siA4yJGd8HvE"
      },
      "outputs": [],
      "source": [
        "    pregel = db.pregel\n",
        "\n",
        "    # Start a new Pregel job in \"school\" graph.\n",
        "    job_id = db.pregel.create_job(\n",
        "        graph='school',\n",
        "        algorithm='pagerank',\n",
        "        store=False,\n",
        "        max_gss=100,\n",
        "        thread_count=1,\n",
        "        async_mode=False,\n",
        "        result_field='result',\n",
        "        algorithm_params={'threshold': 0.000001}\n",
        "    )"
      ]
    },
    {
      "cell_type": "markdown",
      "metadata": {
        "id": "Ixw3bratB2eA"
      },
      "source": [
        "Furthermore, we can observe the status of a given Pregel job."
      ]
    },
    {
      "cell_type": "code",
      "execution_count": 7,
      "metadata": {
        "id": "vZSY1jrv-y6w",
        "outputId": "7dae8992-a4c6-4b57-f792-3a373dedbe3c",
        "colab": {
          "base_uri": "https://localhost:8080/"
        }
      },
      "outputs": [
        {
          "output_type": "stream",
          "name": "stdout",
          "text": [
            "loading\n",
            "{'id': '318859117698095', 'algorithm': 'pagerank', 'created': '2025-05-20T11:09:48Z', 'ttl': 600, 'state': 'loading', 'gss': 0, 'database': 'TUTo33q0tsc0situdgx7i3kim', 'user': 'TUTktmqji1u978xic42lzelg', 'graph_loaded': False}\n"
          ]
        }
      ],
      "source": [
        "# Retrieve details of a Pregel job by ID.\n",
        "job = pregel.job(job_id)\n",
        "print(job['state'])\n",
        "\n",
        "print(job)"
      ]
    },
    {
      "cell_type": "markdown",
      "metadata": {
        "id": "AgSw2TWjvkZV"
      },
      "source": [
        "And even delete it:"
      ]
    },
    {
      "cell_type": "code",
      "execution_count": 8,
      "metadata": {
        "id": "nygXo9HE-TOf",
        "outputId": "f78c8976-cb06-4b98-94b4-93972c2486c9",
        "colab": {
          "base_uri": "https://localhost:8080/"
        }
      },
      "outputs": [
        {
          "output_type": "execute_result",
          "data": {
            "text/plain": [
              "True"
            ]
          },
          "metadata": {},
          "execution_count": 8
        }
      ],
      "source": [
        "    # Delete a Pregel job by ID.\n",
        "    pregel.delete_job(job_id)"
      ]
    },
    {
      "cell_type": "markdown",
      "metadata": {
        "id": "9SCu7-HB6K1r"
      },
      "source": [
        "# Community Detection"
      ]
    },
    {
      "cell_type": "markdown",
      "metadata": {
        "id": "q0-fDZgK6Qkt"
      },
      "source": [
        "Next, let us look at larger realworld example using the [Pokec Social Network](https://snap.stanford.edu/data/soc-Pokec.html)."
      ]
    },
    {
      "cell_type": "code",
      "execution_count": 12,
      "metadata": {
        "colab": {
          "base_uri": "https://localhost:8080/"
        },
        "id": "naA2n93k6_W9",
        "outputId": "611ce572-72dd-4703-ff13-05cb932fddc9"
      },
      "outputs": [
        {
          "output_type": "stream",
          "name": "stdout",
          "text": [
            "--2025-05-20 11:10:32--  https://pokec-data.s3-us-west-2.amazonaws.com/pokec.tar.gz\n",
            "Resolving pokec-data.s3-us-west-2.amazonaws.com (pokec-data.s3-us-west-2.amazonaws.com)... 52.92.148.250, 52.92.225.66, 52.92.146.138, ...\n",
            "Connecting to pokec-data.s3-us-west-2.amazonaws.com (pokec-data.s3-us-west-2.amazonaws.com)|52.92.148.250|:443... connected.\n",
            "HTTP request sent, awaiting response... 200 OK\n",
            "Length: 985191636 (940M) [application/x-gzip]\n",
            "Saving to: ‘pokec.tar.gz’\n",
            "\n",
            "pokec.tar.gz        100%[===================>] 939.55M  22.8MB/s    in 44s     \n",
            "\n",
            "2025-05-20 11:11:18 (21.2 MB/s) - ‘pokec.tar.gz’ saved [985191636/985191636]\n",
            "\n",
            "pokec/\n",
            "pokec/relations.jsonl\n",
            "pokec/profiles.jsonl\n",
            "AqlCrudTutorial.ipynb\t     creds.dat\t\tpokec.tar.gz\n",
            "AqlGeospatialTutorial.ipynb  data\t\t__pycache__\n",
            "AqlJoinTutorial.ipynb\t     example_output\tREADME.md\n",
            "AqlPart2Tutorial.ipynb\t     FuzzySearch.ipynb\tsample_data\n",
            "AqlTraversalTutorial.ipynb   img\t\ttools\n",
            "ArangoDBUniversity\t     oasis.py\t\tUpsert.ipynb\n",
            "ArangoSearch.ipynb\t     pokec\n"
          ]
        }
      ],
      "source": [
        "#Download the Pokec Dataset (be aware of the size of 1GB)\n",
        "!wget https://pokec-data.s3-us-west-2.amazonaws.com/pokec.tar.gz\n",
        "!tar xvf pokec.tar.gz\n",
        "!ls"
      ]
    },
    {
      "cell_type": "markdown",
      "metadata": {
        "id": "7CxBkzSs-SFX"
      },
      "source": [
        "Next, we will import the profiles and relationship using arangorestore.\n",
        "\n",
        "*Note the included arangorestore will only work on Linux, if you want to run this notebook on a different OS please consider using the appropriate arangorestore from the Download area and for more information on how to use the ArangoDB client tools, see the documentation.*"
      ]
    },
    {
      "cell_type": "code",
      "execution_count": 18,
      "metadata": {
        "colab": {
          "base_uri": "https://localhost:8080/"
        },
        "id": "kUhb619h8Ixa",
        "outputId": "0703220f-39c5-4ae9-d931-9896daad3c62"
      },
      "outputs": [
        {
          "output_type": "stream",
          "name": "stdout",
          "text": [
            "Connected to ArangoDB 'http+ssl://tutorials.arangodb.cloud:8529, database: 'TUTo33q0tsc0situdgx7i3kim', username: 'TUTktmqji1u978xic42lzelg'\n",
            "----------------------------------------\n",
            "database:               TUTo33q0tsc0situdgx7i3kim\n",
            "collection:             profiles\n",
            "create:                 yes\n",
            "create database:        no\n",
            "source filename:        pokec/profiles.jsonl\n",
            "file type:              jsonl\n",
            "threads:                2\n",
            "connect timeout:        5\n",
            "request timeout:        1200\n",
            "----------------------------------------\n",
            "Starting JSON import...\n",
            "\u001b[0m2025-05-20T11:15:17Z [2374] INFO [9ddf3] processed 70252448 bytes (3%) of input file\n",
            "\u001b[0m\u001b[0m2025-05-20T11:15:31Z [2374] INFO [9ddf3] processed 140504896 bytes (6%) of input file\n",
            "\u001b[0m\u001b[0m2025-05-20T11:15:39Z [2374] INFO [9ddf3] processed 210757344 bytes (9%) of input file\n",
            "\u001b[0m\u001b[0m2025-05-20T11:15:46Z [2374] INFO [9ddf3] processed 281009792 bytes (12%) of input file\n",
            "\u001b[0m\u001b[0m2025-05-20T11:15:52Z [2374] INFO [9ddf3] processed 351262240 bytes (15%) of input file\n",
            "\u001b[0m\u001b[0m2025-05-20T11:15:56Z [2374] INFO [9ddf3] processed 421514688 bytes (18%) of input file\n",
            "\u001b[0m\u001b[0m2025-05-20T11:16:01Z [2374] INFO [9ddf3] processed 491767136 bytes (21%) of input file\n",
            "\u001b[0m\u001b[0m2025-05-20T11:16:05Z [2374] INFO [9ddf3] processed 562019584 bytes (24%) of input file\n",
            "\u001b[0m\u001b[0m2025-05-20T11:16:08Z [2374] INFO [9ddf3] processed 632239265 bytes (27%) of input file\n",
            "\u001b[0m\u001b[0m2025-05-20T11:16:11Z [2374] INFO [9ddf3] processed 702491713 bytes (30%) of input file\n",
            "\u001b[0m\u001b[0m2025-05-20T11:16:14Z [2374] INFO [9ddf3] processed 772744161 bytes (33%) of input file\n",
            "\u001b[0m\u001b[0m2025-05-20T11:16:16Z [2374] INFO [9ddf3] processed 842996609 bytes (36%) of input file\n",
            "\u001b[0m\u001b[0m2025-05-20T11:16:19Z [2374] INFO [9ddf3] processed 913249057 bytes (39%) of input file\n",
            "\u001b[0m\u001b[0m2025-05-20T11:16:21Z [2374] INFO [9ddf3] processed 983501505 bytes (42%) of input file\n",
            "\u001b[0m\u001b[0m2025-05-20T11:16:24Z [2374] INFO [9ddf3] processed 1053753953 bytes (45%) of input file\n",
            "\u001b[0m\u001b[0m2025-05-20T11:16:28Z [2374] INFO [9ddf3] processed 1124006401 bytes (48%) of input file\n",
            "\u001b[0m\u001b[0m2025-05-20T11:16:31Z [2374] INFO [9ddf3] processed 1194258849 bytes (51%) of input file\n",
            "\u001b[0m\u001b[0m2025-05-20T11:16:34Z [2374] INFO [9ddf3] processed 1264478530 bytes (54%) of input file\n",
            "\u001b[0m\u001b[0m2025-05-20T11:16:36Z [2374] INFO [9ddf3] processed 1334730978 bytes (57%) of input file\n",
            "\u001b[0m\u001b[0m2025-05-20T11:16:39Z [2374] INFO [9ddf3] processed 1404983426 bytes (60%) of input file\n",
            "\u001b[0m\u001b[0m2025-05-20T11:16:43Z [2374] INFO [9ddf3] processed 1475235874 bytes (63%) of input file\n",
            "\u001b[0m\u001b[0m2025-05-20T11:16:46Z [2374] INFO [9ddf3] processed 1545488322 bytes (66%) of input file\n",
            "\u001b[0m\u001b[0m2025-05-20T11:16:49Z [2374] INFO [9ddf3] processed 1615740770 bytes (69%) of input file\n",
            "\u001b[0m\u001b[0m2025-05-20T11:16:51Z [2374] INFO [9ddf3] processed 1685993218 bytes (72%) of input file\n",
            "\u001b[0m\u001b[0m2025-05-20T11:16:55Z [2374] INFO [9ddf3] processed 1756245666 bytes (75%) of input file\n",
            "\u001b[0m\u001b[0m2025-05-20T11:16:58Z [2374] INFO [9ddf3] processed 1826498114 bytes (78%) of input file\n",
            "\u001b[0m\u001b[0m2025-05-20T11:17:01Z [2374] INFO [9ddf3] processed 1896717795 bytes (81%) of input file\n",
            "\u001b[0m\u001b[0m2025-05-20T11:17:04Z [2374] INFO [9ddf3] processed 1966970243 bytes (84%) of input file\n",
            "\u001b[0m\u001b[0m2025-05-20T11:17:08Z [2374] INFO [9ddf3] processed 2037222691 bytes (87%) of input file\n",
            "\u001b[0m\u001b[0m2025-05-20T11:17:11Z [2374] INFO [9ddf3] processed 2107475139 bytes (90%) of input file\n",
            "\u001b[0m\u001b[0m2025-05-20T11:17:16Z [2374] INFO [9ddf3] processed 2177727587 bytes (93%) of input file\n",
            "\u001b[0m\u001b[0m2025-05-20T11:17:19Z [2374] INFO [9ddf3] processed 2247980035 bytes (96%) of input file\n",
            "\u001b[0m\u001b[0m2025-05-20T11:17:22Z [2374] INFO [9ddf3] processed 2318232483 bytes (99%) of input file\n",
            "\u001b[0m\n",
            "created:          1632803\n",
            "warnings/errors:  0\n",
            "updated/replaced: 0\n",
            "ignored:          0\n"
          ]
        }
      ],
      "source": [
        "! ./tools/arangoimport -c none --server.endpoint http+ssl://{login[\"hostname\"]}:{login[\"port\"]} --server.username {login[\"username\"]} --server.database {login[\"dbName\"]} --server.password {login[\"password\"]}   --file \"pokec/profiles.jsonl\" --type jsonl --collection profiles --progress true --create-collection true --create-collection-type document\n",
        "#! ./tools/arangoimport -c none --server.endpoint http+ssl://{login[\"hostname\"]}:{login[\"port\"]} --server.username {login[\"username\"]} --server.database {login[\"dbName\"]} --server.password {login[\"password\"]} --default-replication-factor 3  --input-directory \"pokec/relations\""
      ]
    },
    {
      "cell_type": "markdown",
      "metadata": {
        "id": "bhZ66A9dv5bR"
      },
      "source": [
        "# Custom Pregel\n",
        "\n",
        "So far we looked at predefined algorithms. ArangoDB is also offering an (at time of writing experimental) feature which allows users to add/modify their custom Pregel algorithms at runtime. Check out [this webinar](https://www.arangodb.com/events/arangodb-feature-preview-custom-pregel/) for more details."
      ]
    },
    {
      "cell_type": "markdown",
      "metadata": {
        "id": "eBD63hEf3JXD"
      },
      "source": [
        "# Next Steps"
      ]
    },
    {
      "cell_type": "markdown",
      "metadata": {
        "id": "fIF4PVuluT9m"
      },
      "source": [
        "Check out the [community detection tutorial](https://www.arangodb.com/learn/graphs/pregel-community-detection/) to explore further applications of pregel to social network analytics.\n"
      ]
    },
    {
      "cell_type": "markdown",
      "metadata": {
        "id": "y_ZcVyZf3JXD"
      },
      "source": [
        "To continue playing and working with ArangoDB beyond the temporary database, you can:\n",
        "\n",
        "* [Get a 2 week free Trial with the ArangoDB Cloud](https://cloud.arangodb.com/home?utm_source=AQLJoin&utm_medium=Github&utm_campaign=ArangoDB%20University)\n",
        "* Take the [free Graph Course](https://www.arangodb.com/arangodb-graph-course)  \n",
        "* [Download ArangoDB](https://www.arangodb.com/download-major/)\n",
        "* Keep Learning at https://www.arangodb.com/arangodb-training-center/"
      ]
    },
    {
      "cell_type": "markdown",
      "metadata": {
        "id": "9jFaZwbH3JXE"
      },
      "source": [
        "# Further Links"
      ]
    },
    {
      "cell_type": "markdown",
      "metadata": {
        "id": "0SaGzSwA3JXE"
      },
      "source": [
        "* https://www.arangodb.com/docs/stable/aql/tutorial.html"
      ]
    }
  ],
  "metadata": {
    "colab": {
      "name": "Pregel.ipynb",
      "provenance": [],
      "toc_visible": true,
      "include_colab_link": true
    },
    "kernelspec": {
      "display_name": "Python 3",
      "language": "python",
      "name": "python3"
    },
    "language_info": {
      "codemirror_mode": {
        "name": "ipython",
        "version": 3
      },
      "file_extension": ".py",
      "mimetype": "text/x-python",
      "name": "python",
      "nbconvert_exporter": "python",
      "pygments_lexer": "ipython3",
      "version": "3.7.7"
    }
  },
  "nbformat": 4,
  "nbformat_minor": 0
}